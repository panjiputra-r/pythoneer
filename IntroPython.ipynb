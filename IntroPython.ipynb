{
  "cells": [
    {
      "cell_type": "markdown",
      "metadata": {
        "id": "0gYOHY9DFk4B"
      },
      "source": [
        "# Introduction to Python\n",
        "\n",
        "- Variable\n",
        "- Data Type Primary\n",
        "  - Number\n",
        "    - Integer\n",
        "    - Float\n",
        "  - String\n",
        "  - Boolean\n",
        "- Data Type Array (Collections of Data)\n",
        "  - List\n",
        "  - Tuple\n",
        "  - Dictionary\n",
        "  - Set\n",
        "- Operation\n"
      ]
    },
    {
      "cell_type": "markdown",
      "metadata": {},
      "source": []
    },
    {
      "cell_type": "markdown",
      "metadata": {
        "id": "hOxhspEjsMB3"
      },
      "source": [
        "---\n",
        "\n",
        "Nama :  Panji Putra Rianto  \n",
        "Batch :  HCK-012\n",
        "\n",
        "---"
      ]
    },
    {
      "cell_type": "code",
      "execution_count": 1,
      "metadata": {
        "colab": {
          "base_uri": "https://localhost:8080/"
        },
        "id": "GDFs8DJ5r3J7",
        "outputId": "68a6a7c8-01a2-48ad-fc45-2397013030a9"
      },
      "outputs": [
        {
          "name": "stdout",
          "output_type": "stream",
          "text": [
            "HELLO\n"
          ]
        }
      ],
      "source": [
        "# Run this block code\n",
        "#tampilkan hello\n",
        "print(\"HELLO\")\n",
        "\n",
        "# print(\"WORLD\")"
      ]
    },
    {
      "cell_type": "markdown",
      "metadata": {
        "id": "dLKmJt2KJNDu"
      },
      "source": [
        "# Variable\n",
        "\n",
        "Rules dari membuat nama variable:\n",
        "- Dimulai dengan huruf\n",
        "- Perhatikan plural / singular jika dalam bahasa inggris\n",
        "- bisa camelCase, PascalCase, snake_case tidak kebab-case.\n",
        "\n",
        "\n",
        "Buatlah 3 variable yaitu:\n",
        "- variable name dan isi dengan namamu\n",
        "- variable favoriteNumber isi dengan angka kesukaanmu\n",
        "- variable isHungry dan isi True jika kamu lapar dann False jika kamu tidak lapar"
      ]
    },
    {
      "cell_type": "code",
      "execution_count": 20,
      "metadata": {
        "id": "vH5lUI0kqAxa"
      },
      "outputs": [],
      "source": [
        "# Code dibawah ini\n",
        "name = \"Panji\"\n",
        "favoriteNumber = 12\n",
        "isHungry = False"
      ]
    },
    {
      "cell_type": "markdown",
      "metadata": {
        "id": "LP6QVd2HqZiR"
      },
      "source": [
        "# Data Type Primary"
      ]
    },
    {
      "cell_type": "markdown",
      "metadata": {
        "id": "ria_IrJ1qRpl"
      },
      "source": [
        "## Data Type Number\n",
        "\n",
        "Terdapat Integer dan Float"
      ]
    },
    {
      "cell_type": "code",
      "execution_count": 16,
      "metadata": {
        "id": "Yc19bHtfqQ-9"
      },
      "outputs": [
        {
          "name": "stdout",
          "output_type": "stream",
          "text": [
            "45.0\n",
            "<class 'float'>\n",
            "False\n",
            "50\n",
            "45.0\n"
          ]
        }
      ],
      "source": [
        "# Latihan kode disini (Ikuti dalam kelas)\n",
        "print(favoriteNumber)\n",
        "print(type(favoriteNumber))\n",
        "print(favoriteNumber == 100)\n",
        "\n",
        "favoriteNumber = 50 # Reassignment =\n",
        "print(favoriteNumber)\n",
        "\n",
        "favoriteNumber = favoriteNumber - (favoriteNumber / 10)\n",
        "print(favoriteNumber)"
      ]
    },
    {
      "cell_type": "markdown",
      "metadata": {
        "id": "kN7khB5IqC7K"
      },
      "source": [
        "## Data Type String\n",
        "\n",
        "Peruntukannya untuk text dapat menggunakan kutip 1 atau 2 ' \""
      ]
    },
    {
      "cell_type": "code",
      "execution_count": 37,
      "metadata": {
        "id": "JErM3SdVFh9H"
      },
      "outputs": [
        {
          "name": "stdout",
          "output_type": "stream",
          "text": [
            "panji\n",
            "<class 'str'>\n",
            "5\n",
            "panji 3\n",
            "7\n",
            "p\n",
            "i\n",
            "7\n"
          ]
        }
      ],
      "source": [
        "# Latihan kode disini (Ikuti dalam kelas)\n",
        "name = \"panji\"\n",
        "print(name)\n",
        "print(type(name))\n",
        "print(len(name))\n",
        "\n",
        "# Coba tambahkan angka ke string\n",
        "name += str(\" 3\")\n",
        "print(name)\n",
        "\n",
        "# Coba fungsi len dengan ada spasi\n",
        "print(len(name))\n",
        "\n",
        "# Coba akses character pertama dan kedua\n",
        "print (name[0])\n",
        "print (name[4])\n",
        "\n",
        "# Menggabung\n",
        "girl = \"naya\"\n",
        "boy = \"jarwo\"\n",
        "\n",
        "gabungan = \"boy\" + \"girl\"\n",
        "print (len(gabungan))"
      ]
    },
    {
      "cell_type": "markdown",
      "metadata": {
        "id": "Wi4SejTIqb7o"
      },
      "source": [
        "## Data Type Boolean\n",
        "\n",
        "Yaitu True dan False"
      ]
    },
    {
      "cell_type": "code",
      "execution_count": 40,
      "metadata": {
        "id": "reRugMYIqhQ0"
      },
      "outputs": [
        {
          "name": "stdout",
          "output_type": "stream",
          "text": [
            "panji 3 False 12\n",
            "Namaku panji 3, angka favoritku adalah 12, Status lapar False,\n"
          ]
        }
      ],
      "source": [
        "# Latihan kode disini (Ikuti dalam kelas)\n",
        "print(name, isHungry, favoriteNumber)\n",
        "print(f\"Namaku {name}, angka favoritku adalah {favoriteNumber}, Status lapar {isHungry},\")\n",
        "\n",
        "# gunakan f dan kurung {} untuk mengubah string jadi variabel"
      ]
    },
    {
      "cell_type": "markdown",
      "metadata": {
        "id": "jnEuh5gQqkzn"
      },
      "source": [
        "# Data Type Array / Data Type For Collections of Data\n",
        "\n",
        "Kalo w3school menyebutkannya sebagai [Python Collections (Arrays)](https://www.w3schools.com/python/python_lists.asp#:~:text=Python%20Collections%20(Arrays)).\n",
        "\n",
        "----- note disini latihan menggunakaan markdown text yaa..\n",
        "\n"
      ]
    },
    {
      "cell_type": "markdown",
      "metadata": {},
      "source": [
        "## LIST []"
      ]
    },
    {
      "cell_type": "code",
      "execution_count": 48,
      "metadata": {},
      "outputs": [
        {
          "name": "stdout",
          "output_type": "stream",
          "text": [
            "['Bita', 'Nicku', 'Ogi', 'Riki', 'Naufal']\n",
            "<class 'list'>\n",
            "5\n",
            "['Bita', 'Nicku', 'Ogi', 'Riki', 'Naufal', 'Ayu']\n",
            "Ayu\n"
          ]
        }
      ],
      "source": [
        "names = [\"Bita\", \"Nicku\", \"Ogi\", \"Riki\", \"Naufal\"]\n",
        "print(names)\n",
        "print(type(names))\n",
        "print(len(names))\n",
        "\n",
        "names.append(\"Ayu\")\n",
        "print(names)\n",
        "print(names[-1])"
      ]
    },
    {
      "cell_type": "code",
      "execution_count": 56,
      "metadata": {},
      "outputs": [
        {
          "name": "stdout",
          "output_type": "stream",
          "text": [
            "[5000, 3000, 1000, 2000, 6000]\n",
            "[1000, 2000, 3000, 5000, 6000]\n",
            "[6000, 5000, 3000, 2000, 1000]\n"
          ]
        }
      ],
      "source": [
        "numbers = [5000, 3000, 1000, 2000, 6000]\n",
        "print(numbers)\n",
        "\n",
        "# Pass References (gunakan copy untuk mengubah tanpa mempengaruhi reference)\n",
        "KumpulanAngka = numbers.copy()\n",
        "\n",
        "# Ascending\n",
        "KumpulanAngka.sort()\n",
        "print(KumpulanAngka)\n",
        "\n",
        "# Descending\n",
        "KumpulanAngka.sort(reverse=True)\n",
        "print(KumpulanAngka)"
      ]
    },
    {
      "cell_type": "code",
      "execution_count": 57,
      "metadata": {},
      "outputs": [
        {
          "name": "stdout",
          "output_type": "stream",
          "text": [
            "[5000, 3000, 1000, 2000, 6000]\n"
          ]
        }
      ],
      "source": [
        "print(numbers)"
      ]
    },
    {
      "cell_type": "markdown",
      "metadata": {},
      "source": [
        "## CARA HANDLE PASS REFERENCE"
      ]
    },
    {
      "cell_type": "code",
      "execution_count": 58,
      "metadata": {},
      "outputs": [
        {
          "name": "stdout",
          "output_type": "stream",
          "text": [
            "['Seblak', 'Martabak', 'Sushi', 'NasiGoreng']\n",
            "['Seblak', 'Martabak', 'Sushi', 'NasiGoreng']\n"
          ]
        }
      ],
      "source": [
        "listMakanan = [\"Seblak\", \"Martabak\", \"Sushi\"]\n",
        "listMakananFavorite = listMakanan\n",
        "listMakananFavorite.append(\"NasiGoreng\")\n",
        "# Keduanya Berubah\n",
        "print(listMakananFavorite)\n",
        "print(listMakanan)"
      ]
    },
    {
      "cell_type": "code",
      "execution_count": 60,
      "metadata": {},
      "outputs": [
        {
          "name": "stdout",
          "output_type": "stream",
          "text": [
            "['Seblak', 'Martabak', 'Sushi', 'NasiGoreng']\n",
            "['Seblak', 'Martabak', 'Sushi', 'NasiGoreng', 'Batagor']\n"
          ]
        }
      ],
      "source": [
        "listMakananFavorite = listMakanan.copy()\n",
        "listMakananFavorite.append(\"Batagor\")\n",
        "print(listMakanan)\n",
        "print(listMakananFavorite)"
      ]
    },
    {
      "cell_type": "code",
      "execution_count": 61,
      "metadata": {},
      "outputs": [
        {
          "name": "stdout",
          "output_type": "stream",
          "text": [
            "['Seblak', 'Martabak', 'Sushi']\n"
          ]
        }
      ],
      "source": [
        "# Untuk Memanggil Index Yang Mana\n",
        "print (listMakananFavorite[:3])"
      ]
    },
    {
      "cell_type": "markdown",
      "metadata": {},
      "source": [
        "## TUPLE ()"
      ]
    },
    {
      "cell_type": "code",
      "execution_count": 63,
      "metadata": {},
      "outputs": [
        {
          "name": "stdout",
          "output_type": "stream",
          "text": [
            "Jarwo, Bambang, Jamet\n"
          ]
        }
      ],
      "source": [
        "listNama = (\"Jarwo, Bambang, Jamet\")\n",
        "print(listNama)"
      ]
    },
    {
      "cell_type": "markdown",
      "metadata": {},
      "source": [
        "## DICTIONARY"
      ]
    },
    {
      "cell_type": "code",
      "execution_count": 68,
      "metadata": {},
      "outputs": [
        {
          "name": "stdout",
          "output_type": "stream",
          "text": [
            "{'name': 'Joni', 'age': 6, 'weight': 3.5, 'height': 60}\n",
            "4\n",
            "Joni\n",
            "{'name': 'Joni', 'age': 6, 'weight': 3.5, 'height': 60, 'isVaksin': True}\n",
            "{'name': 'Jamet', 'age': 6, 'weight': 3.5, 'height': 60, 'isVaksin': True}\n"
          ]
        }
      ],
      "source": [
        "persianCat = {\n",
        "    'name' : 'Joni',\n",
        "    'age' : 6,\n",
        "    'weight' : 3.5,\n",
        "    'height' : 60\n",
        "}\n",
        "\n",
        "print(persianCat)\n",
        "print(len(persianCat))\n",
        "\n",
        "# Akses value dengan keyname (bukan index)\n",
        "print(persianCat['name'])\n",
        "\n",
        "# Menambah keyname dan value baru\n",
        "persianCat['isVaksin'] = True\n",
        "print(persianCat)\n",
        "\n",
        "# Mengubah Value\n",
        "persianCat['name'] = 'Jamet'\n",
        "print(persianCat)"
      ]
    },
    {
      "cell_type": "markdown",
      "metadata": {},
      "source": [
        "## Exercise"
      ]
    },
    {
      "cell_type": "code",
      "execution_count": 73,
      "metadata": {},
      "outputs": [
        {
          "name": "stdout",
          "output_type": "stream",
          "text": [
            "Zain Dom\n",
            "[100, 100, 90, 90, 100, 50]\n",
            "100\n",
            "50\n"
          ]
        }
      ],
      "source": [
        "listHck12 = {\n",
        "    \"students\": ['Alifa', 'Zain', 'Husein', 'Panji', 'Tude', 'Tania'],\n",
        "    \"buddy\": ['Prof', 'Dom', 'Fachrul', 'Prof', 'Dom', 'Fachrul'],\n",
        "    \"scores\": [100, 100, 90, 90, 100, 50]\n",
        "}\n",
        "\n",
        "print(listHck12 ['students'] [1], listHck12 ['buddy'] [1])\n",
        "print(listHck12['scores'])\n",
        "print(max(listHck12['scores']))\n",
        "print(min(listHck12['scores']))"
      ]
    }
  ],
  "metadata": {
    "colab": {
      "provenance": []
    },
    "kernelspec": {
      "display_name": "Python 3",
      "name": "python3"
    },
    "language_info": {
      "codemirror_mode": {
        "name": "ipython",
        "version": 3
      },
      "file_extension": ".py",
      "mimetype": "text/x-python",
      "name": "python",
      "nbconvert_exporter": "python",
      "pygments_lexer": "ipython3",
      "version": "3.11.5"
    }
  },
  "nbformat": 4,
  "nbformat_minor": 0
}
